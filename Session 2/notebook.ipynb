{
 "cells": [
  {
   "cell_type": "code",
   "execution_count": null,
   "id": "917d941b",
   "metadata": {},
   "outputs": [],
   "source": [
    "import cv2\n",
    "\n",
    "img = cv2.imread(\"1.jpg\")\n",
    "#cv2.imshow(\"test\", img)\n",
    "#cv2.waitKey(0)\n",
    "\n",
    "\n",
    "#resize image (jadi setengahnya)\n",
    "scale_factor = 0.5\n",
    "original_shape = img.shape\n",
    "\n",
    "fianl_width = int(original_shape[1]*scale_factor)\n",
    "final_height = int(original_shape[0]*scale_factor)\n",
    "\n",
    "final_dim = (fianl_width, final_height)\n",
    "resized_image = cv2.resize(img, final_dim, cv2.INTER_AREA)\n",
    "\n",
    "cv2.imshow(\"resized image:\", resized_image)\n",
    "cv2.waitKey(0)\n",
    "\n",
    "## convert color \n",
    "# coba grayscale\n",
    "\n",
    "grayscaled_image = cv2.cvtColor(img, cv2.COLOR_BGR2GRAY) #ini banyak bisa diconvertnya ke macem\" gitu\n",
    "cv2.imshow(\"Grayscaled image:\", grayscaled_image)\n",
    "cv2.waitKey(0)"
   ]
  }
 ],
 "metadata": {
  "kernelspec": {
   "display_name": "Python 3",
   "language": "python",
   "name": "python3"
  },
  "language_info": {
   "codemirror_mode": {
    "name": "ipython",
    "version": 3
   },
   "file_extension": ".py",
   "mimetype": "text/x-python",
   "name": "python",
   "nbconvert_exporter": "python",
   "pygments_lexer": "ipython3",
   "version": "3.10.9"
  }
 },
 "nbformat": 4,
 "nbformat_minor": 5
}
